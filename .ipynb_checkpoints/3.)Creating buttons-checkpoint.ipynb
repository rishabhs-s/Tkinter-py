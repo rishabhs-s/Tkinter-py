{
 "cells": [
  {
   "cell_type": "code",
   "execution_count": 1,
   "metadata": {},
   "outputs": [],
   "source": [
    "from tkinter import *"
   ]
  },
  {
   "cell_type": "code",
   "execution_count": 2,
   "metadata": {},
   "outputs": [],
   "source": [
    "root=Tk()"
   ]
  },
  {
   "cell_type": "code",
   "execution_count": 3,
   "metadata": {},
   "outputs": [],
   "source": [
    "def myclick1():\n",
    "    mylabel1=Label(root,text=\"CLICKED ON 1st BUTTON\")\n",
    "    mylabel1.pack()\n",
    "def myclick2():\n",
    "    mylabel2=Label(root,text=\"CLICKED ON 2nd BUTTON\")\n",
    "    mylabel2.pack()\n",
    "def myclick3():\n",
    "    mylabel3=Label(root,text=\"CLICKED ON 3rd BUTTON\")\n",
    "    mylabel3.pack()\n",
    "def myclick4():\n",
    "    mylabel4=Label(root,text=\"CLICKED ON 4th BUTTON\")\n",
    "    mylabel4.pack()\n",
    "def myclick5():\n",
    "    mylabel5=Label(root,text=\"CLICKED ON 5th BUTTON\")\n",
    "    mylabel5.pack()"
   ]
  },
  {
   "cell_type": "code",
   "execution_count": 4,
   "metadata": {},
   "outputs": [],
   "source": [
    "myButton1=Button(root,text=\"Click Here\",command=myclick1,fg=\"blue\",bg=\"yellow\")\n",
    "myButton2=Button(root,text=\"Click Here\",state=DISABLED,command=myclick2,fg=\"red\")\n",
    "myButton3=Button(root,text=\"Click Here\",padx=50,command=myclick3,bg=\"red\")\n",
    "myButton4=Button(root,text=\"Click Here\",pady=50,command=myclick4)\n",
    "myButton5=Button(root,text=\"Click Here\",padx=50,command=myclick5)"
   ]
  },
  {
   "cell_type": "code",
   "execution_count": 5,
   "metadata": {},
   "outputs": [],
   "source": [
    "myButton1.pack()#myButton.grid(row=1,column=1)\n",
    "myButton2.pack()\n",
    "myButton3.pack()\n",
    "myButton4.pack()\n",
    "myButton5.pack()"
   ]
  },
  {
   "cell_type": "code",
   "execution_count": 6,
   "metadata": {},
   "outputs": [],
   "source": [
    "root.mainloop()"
   ]
  },
  {
   "cell_type": "code",
   "execution_count": null,
   "metadata": {},
   "outputs": [],
   "source": []
  }
 ],
 "metadata": {
  "kernelspec": {
   "display_name": "Python 3",
   "language": "python",
   "name": "python3"
  },
  "language_info": {
   "codemirror_mode": {
    "name": "ipython",
    "version": 3
   },
   "file_extension": ".py",
   "mimetype": "text/x-python",
   "name": "python",
   "nbconvert_exporter": "python",
   "pygments_lexer": "ipython3",
   "version": "3.7.4"
  }
 },
 "nbformat": 4,
 "nbformat_minor": 2
}
