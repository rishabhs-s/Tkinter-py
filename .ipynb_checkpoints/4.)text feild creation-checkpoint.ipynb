{
 "cells": [
  {
   "cell_type": "code",
   "execution_count": 1,
   "metadata": {},
   "outputs": [],
   "source": [
    "from tkinter import *"
   ]
  },
  {
   "cell_type": "code",
   "execution_count": 2,
   "metadata": {},
   "outputs": [],
   "source": [
    "root=Tk()"
   ]
  },
  {
   "cell_type": "code",
   "execution_count": 3,
   "metadata": {},
   "outputs": [],
   "source": [
    "input=Entry(root,bg=\"black\",fg=\"white\")#creates an input field\n",
    "input.pack()\n",
    "input1=Entry(root)\n",
    "input1.pack()\n",
    "input2=Entry(root,bg=\"blue\",fg=\"white\")\n",
    "input2.pack()\n",
    "input2.insert(0,\"Enter your name\") #default text ,it will come on screen "
   ]
  },
  {
   "cell_type": "code",
   "execution_count": 4,
   "metadata": {},
   "outputs": [],
   "source": [
    "def onclick():\n",
    "    label=Label(root,text=\"Button Clicked\")\n",
    "    label.pack()\n",
    "def getentry():\n",
    "    label1=Label(root,text=input2.get())#.get() can be used to get the parameters of user entry\n",
    "    label1.pack()\n",
    "    "
   ]
  },
  {
   "cell_type": "code",
   "execution_count": 5,
   "metadata": {},
   "outputs": [],
   "source": [
    "button=Button(root,text=\"click here\",command=onclick)\n",
    "button.pack()\n",
    "button1=Button(root,text=\"Enter name is last row\",command=getentry)\n",
    "button1.pack()"
   ]
  },
  {
   "cell_type": "code",
   "execution_count": null,
   "metadata": {},
   "outputs": [],
   "source": [
    "root.mainloop()"
   ]
  },
  {
   "cell_type": "code",
   "execution_count": null,
   "metadata": {},
   "outputs": [],
   "source": []
  }
 ],
 "metadata": {
  "kernelspec": {
   "display_name": "Python 3",
   "language": "python",
   "name": "python3"
  },
  "language_info": {
   "codemirror_mode": {
    "name": "ipython",
    "version": 3
   },
   "file_extension": ".py",
   "mimetype": "text/x-python",
   "name": "python",
   "nbconvert_exporter": "python",
   "pygments_lexer": "ipython3",
   "version": "3.7.4"
  }
 },
 "nbformat": 4,
 "nbformat_minor": 2
}
