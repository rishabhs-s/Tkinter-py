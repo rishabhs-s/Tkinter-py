{
 "cells": [
  {
   "cell_type": "code",
   "execution_count": 1,
   "metadata": {},
   "outputs": [],
   "source": [
    "from tkinter import *"
   ]
  },
  {
   "cell_type": "code",
   "execution_count": 2,
   "metadata": {},
   "outputs": [],
   "source": [
    "root=Tk()"
   ]
  },
  {
   "cell_type": "code",
   "execution_count": 3,
   "metadata": {
    "scrolled": true
   },
   "outputs": [
    {
     "data": {
      "text/plain": [
       "''"
      ]
     },
     "execution_count": 3,
     "metadata": {},
     "output_type": "execute_result"
    }
   ],
   "source": [
    "root.title(\"Calculator\")"
   ]
  },
  {
   "cell_type": "code",
   "execution_count": 4,
   "metadata": {},
   "outputs": [],
   "source": [
    "input=Entry(root,width=35,borderwidth=5)\n",
    "input.grid(row=0,column=0,columnspan=4,padx=10,pady=20)"
   ]
  },
  {
   "cell_type": "code",
   "execution_count": 5,
   "metadata": {},
   "outputs": [],
   "source": [
    "def button_click(number):\n",
    "    current=input.get()\n",
    "    input.delete(0,END)\n",
    "    input.insert(0,str(current)+str(number))"
   ]
  },
  {
   "cell_type": "code",
   "execution_count": 6,
   "metadata": {},
   "outputs": [],
   "source": [
    "def button_clear():\n",
    "    input.delete(0,END)"
   ]
  },
  {
   "cell_type": "code",
   "execution_count": 7,
   "metadata": {},
   "outputs": [],
   "source": [
    "def button_add():\n",
    "    first_num=input.get()\n",
    "    global f_num\n",
    "    global math\n",
    "    math=\"addition\"\n",
    "    f_num=int(first_num)\n",
    "    input.delete(0,END)\n",
    "    "
   ]
  },
  {
   "cell_type": "code",
   "execution_count": 8,
   "metadata": {},
   "outputs": [],
   "source": [
    "def button_substract():\n",
    "    first_num=input.get()\n",
    "    global f_num\n",
    "    global math\n",
    "    math=\"substraction\"\n",
    "    f_num=int(first_num)\n",
    "    input.delete(0,END)"
   ]
  },
  {
   "cell_type": "code",
   "execution_count": 9,
   "metadata": {},
   "outputs": [],
   "source": [
    "def button_multiply():\n",
    "    first_num=input.get()\n",
    "    global f_num\n",
    "    global math\n",
    "    math=\"multiplication\"\n",
    "    f_num=int(first_num)\n",
    "    input.delete(0,END)"
   ]
  },
  {
   "cell_type": "code",
   "execution_count": 10,
   "metadata": {},
   "outputs": [],
   "source": [
    "def button_divide():\n",
    "    first_num=input.get()\n",
    "    global f_num\n",
    "    global math\n",
    "    math=\"divison\"\n",
    "    f_num=int(first_num)\n",
    "    input.delete(0,END)"
   ]
  },
  {
   "cell_type": "code",
   "execution_count": 11,
   "metadata": {},
   "outputs": [],
   "source": [
    "def button_equal():\n",
    "    second_number=input.get()\n",
    "    input.delete(0,END)\n",
    "    if math==\"addition\":\n",
    "        input.insert(0,f_num+int(second_number))\n",
    "    if math==\"multiplication\":\n",
    "        input.insert(0,f_num*int(second_number))\n",
    "    if math==\"divison\":\n",
    "        input.insert(0,f_num/int(second_number))\n",
    "    if math==\"substraction\":\n",
    "        input.insert(0,f_num-int(second_number))"
   ]
  },
  {
   "cell_type": "code",
   "execution_count": 12,
   "metadata": {},
   "outputs": [],
   "source": [
    "button_1=Button(root,text=1,padx=40,pady=20,command=lambda:button_click(1))\n",
    "button_1.grid(row=3,column=1)"
   ]
  },
  {
   "cell_type": "code",
   "execution_count": 13,
   "metadata": {},
   "outputs": [],
   "source": [
    "button_2=Button(root,text=2,padx=40,pady=20,command=lambda:button_click(2))\n",
    "button_2.grid(row=3,column=2)"
   ]
  },
  {
   "cell_type": "code",
   "execution_count": 14,
   "metadata": {},
   "outputs": [],
   "source": [
    "button_3=Button(root,text=3,padx=40,pady=20,command=lambda:button_click(3))\n",
    "button_3.grid(row=3,column=3)"
   ]
  },
  {
   "cell_type": "code",
   "execution_count": 15,
   "metadata": {},
   "outputs": [],
   "source": [
    "button_4=Button(root,text=4,padx=40,pady=20,command=lambda:button_click(4))\n",
    "button_4.grid(row=2,column=1)"
   ]
  },
  {
   "cell_type": "code",
   "execution_count": 16,
   "metadata": {},
   "outputs": [],
   "source": [
    "button_5=Button(root,text=5,padx=40,pady=20,command=lambda:button_click(5))\n",
    "button_5.grid(row=2,column=2)"
   ]
  },
  {
   "cell_type": "code",
   "execution_count": 17,
   "metadata": {},
   "outputs": [],
   "source": [
    "button_6=Button(root,text=6,padx=40,pady=20,command=lambda:button_click(6))\n",
    "button_6.grid(row=2,column=3)"
   ]
  },
  {
   "cell_type": "code",
   "execution_count": 18,
   "metadata": {},
   "outputs": [],
   "source": [
    "button_7=Button(root,text=7,padx=40,pady=20,command=lambda:button_click(7))\n",
    "button_7.grid(row=1,column=1)"
   ]
  },
  {
   "cell_type": "code",
   "execution_count": 19,
   "metadata": {},
   "outputs": [],
   "source": [
    "button_8=Button(root,text=8,padx=40,pady=20,command=lambda:button_click(8))\n",
    "button_8.grid(row=1,column=2)"
   ]
  },
  {
   "cell_type": "code",
   "execution_count": 20,
   "metadata": {},
   "outputs": [],
   "source": [
    "button_9=Button(root,text=9,padx=40,pady=20,command=lambda:button_click(9))\n",
    "button_9.grid(row=1,column=3)"
   ]
  },
  {
   "cell_type": "code",
   "execution_count": 21,
   "metadata": {},
   "outputs": [],
   "source": [
    "button_10=Button(root,text=0,padx=40,pady=20,command=lambda:button_click(0))\n",
    "button_10.grid(row=4,column=1)"
   ]
  },
  {
   "cell_type": "code",
   "execution_count": 22,
   "metadata": {},
   "outputs": [],
   "source": [
    "button_add=Button(root,text=\"+\",padx=40,pady=20,command=button_add)\n",
    "button_add.grid(row=4,column=2)"
   ]
  },
  {
   "cell_type": "code",
   "execution_count": 23,
   "metadata": {},
   "outputs": [],
   "source": [
    "button_equal=Button(root,text=\"=\",padx=40,pady=50,command=button_equal)\n",
    "button_equal.grid(row=5,column=3,rowspan=2)"
   ]
  },
  {
   "cell_type": "code",
   "execution_count": 24,
   "metadata": {},
   "outputs": [],
   "source": [
    "button_clear=Button(root,text=\"clear\",padx=77,pady=20,command=button_clear)\n",
    "button_clear.grid(row=6,column=1,columnspan=2)"
   ]
  },
  {
   "cell_type": "code",
   "execution_count": 25,
   "metadata": {},
   "outputs": [],
   "source": [
    "button_substract=Button(root,text=\"-\",padx=40,pady=20,command=button_substract)\n",
    "button_substract.grid(row=4,column=3)"
   ]
  },
  {
   "cell_type": "code",
   "execution_count": 26,
   "metadata": {},
   "outputs": [],
   "source": [
    "button_multiply=Button(root,text=\"*\",padx=40,pady=20,command=button_multiply)\n",
    "button_multiply.grid(row=5,column=1)"
   ]
  },
  {
   "cell_type": "code",
   "execution_count": 27,
   "metadata": {},
   "outputs": [],
   "source": [
    "button_divide=Button(root,text=\"/\",padx=40,pady=20,command=button_divide)\n",
    "button_divide.grid(row=5,column=2)"
   ]
  },
  {
   "cell_type": "code",
   "execution_count": 28,
   "metadata": {},
   "outputs": [],
   "source": [
    "root.mainloop()"
   ]
  },
  {
   "cell_type": "markdown",
   "metadata": {},
   "source": [
    "below is the o/p of the the code"
   ]
  },
  {
   "attachments": {
    "calc.PNG": {
     "image/png": "[encoded data removed]"
    }
   },
   "cell_type": "markdown",
   "metadata": {},
   "source": [
    "![calc.PNG](attachment:calc.PNG)"
   ]
  },
  {
   "cell_type": "markdown",
   "metadata": {},
   "source": [
    "calculator with added functionalities"
   ]
  },
  {
   "attachments": {
    "funccalc.PNG": {
     "image/png": "[encoded data removed]"
    }
   },
   "cell_type": "markdown",
   "metadata": {},
   "source": [
    "![funccalc.PNG](attachment:funccalc.PNG)"
   ]
  },
  {
   "cell_type": "code",
   "execution_count": null,
   "metadata": {},
   "outputs": [],
   "source": []
  }
 ],
 "metadata": {
  "kernelspec": {
   "display_name": "Python 3",
   "language": "python",
   "name": "python3"
  },
  "language_info": {
   "codemirror_mode": {
    "name": "ipython",
    "version": 3
   },
   "file_extension": ".py",
   "mimetype": "text/x-python",
   "name": "python",
   "nbconvert_exporter": "python",
   "pygments_lexer": "ipython3",
   "version": "3.7.6"
  }
 },
 "nbformat": 4,
 "nbformat_minor": 2
}
